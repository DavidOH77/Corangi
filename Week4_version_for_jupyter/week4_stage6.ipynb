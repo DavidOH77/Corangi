{
 "cells": [
  {
   "cell_type": "markdown",
   "metadata": {},
   "source": [
    "# stage6 파이썬 기본과 데이터 조작"
   ]
  },
  {
   "cell_type": "code",
   "execution_count": 1,
   "metadata": {},
   "outputs": [],
   "source": [
    "a = 3 # a를 변수라고 한다."
   ]
  },
  {
   "cell_type": "markdown",
   "metadata": {},
   "source": [
    "<h1>'함께실습$1' <h1>변수를 이용한 계산"
   ]
  },
  {
   "cell_type": "code",
   "execution_count": 4,
   "metadata": {},
   "outputs": [
    {
     "name": "stdout",
     "output_type": "stream",
     "text": [
      "1 2 -1231 -123.53323\n"
     ]
    }
   ],
   "source": [
    "a = 1\n",
    "b = 2\n",
    "c = -1231\n",
    "d = -123.53323\n",
    "print(a,b,c,d)"
   ]
  },
  {
   "cell_type": "code",
   "execution_count": 6,
   "metadata": {},
   "outputs": [
    {
     "name": "stdout",
     "output_type": "stream",
     "text": [
      "444\n"
     ]
    }
   ],
   "source": [
    "add = 123 + 321\n",
    "print(add)"
   ]
  },
  {
   "cell_type": "code",
   "execution_count": 10,
   "metadata": {},
   "outputs": [
    {
     "name": "stdout",
     "output_type": "stream",
     "text": [
      "13\n"
     ]
    }
   ],
   "source": [
    "res = 3 + (2*5)\n",
    "print(res)"
   ]
  },
  {
   "cell_type": "code",
   "execution_count": 11,
   "metadata": {},
   "outputs": [
    {
     "name": "stdout",
     "output_type": "stream",
     "text": [
      "4.333333333333333\n"
     ]
    }
   ],
   "source": [
    "res = res/3\n",
    "print(res)"
   ]
  },
  {
   "cell_type": "code",
   "execution_count": 12,
   "metadata": {},
   "outputs": [
    {
     "name": "stdout",
     "output_type": "stream",
     "text": [
      "-1228\n"
     ]
    }
   ],
   "source": [
    "print(1 + 2 - 1231)"
   ]
  },
  {
   "cell_type": "code",
   "execution_count": 13,
   "metadata": {},
   "outputs": [
    {
     "name": "stdout",
     "output_type": "stream",
     "text": [
      "-1228\n"
     ]
    }
   ],
   "source": [
    "print(a + b + c)"
   ]
  },
  {
   "cell_type": "markdown",
   "metadata": {},
   "source": [
    "<h1>'함께실습$2' <h1>변수를 이용한 문자열 사용"
   ]
  },
  {
   "cell_type": "code",
   "execution_count": 15,
   "metadata": {},
   "outputs": [
    {
     "name": "stdout",
     "output_type": "stream",
     "text": [
      "Hello World\n",
      "안녕 세상\n"
     ]
    }
   ],
   "source": [
    "a = 'Hello World'\n",
    "print(a)\n",
    "\n",
    "b = '안녕 세상'\n",
    "print(b)"
   ]
  },
  {
   "cell_type": "code",
   "execution_count": 16,
   "metadata": {},
   "outputs": [
    {
     "name": "stdout",
     "output_type": "stream",
     "text": [
      "Hi\n"
     ]
    }
   ],
   "source": [
    "a = 'Hi'\n",
    "print(a)"
   ]
  },
  {
   "cell_type": "code",
   "execution_count": 17,
   "metadata": {},
   "outputs": [
    {
     "name": "stdout",
     "output_type": "stream",
     "text": [
      "Hi\n"
     ]
    }
   ],
   "source": [
    "b = a\n",
    "print(b)"
   ]
  },
  {
   "cell_type": "code",
   "execution_count": 18,
   "metadata": {},
   "outputs": [
    {
     "name": "stdout",
     "output_type": "stream",
     "text": [
      "여러줄에 걸쳐 글을 쓰려면?\n",
      "크리스티아누\n",
      "호날두\n",
      "두스\n",
      "산투스\n",
      "아베이루\n"
     ]
    }
   ],
   "source": [
    "longName = '''여러줄에 걸쳐 글을 쓰려면?\n",
    "크리스티아누\n",
    "호날두\n",
    "두스\n",
    "산투스\n",
    "아베이루'''\n",
    "print(longName)"
   ]
  },
  {
   "cell_type": "markdown",
   "metadata": {},
   "source": [
    "<h1>'미션$1' <h1>변수 활용 퀴즈"
   ]
  },
  {
   "cell_type": "code",
   "execution_count": 19,
   "metadata": {},
   "outputs": [
    {
     "name": "stdout",
     "output_type": "stream",
     "text": [
      "my name isDjango\n"
     ]
    }
   ],
   "source": [
    "# 1. 문자를 더하면?\n",
    "\n",
    "a = 'my name is'\n",
    "b = 'Django'\n",
    "print(a+b)"
   ]
  },
  {
   "cell_type": "code",
   "execution_count": 20,
   "metadata": {},
   "outputs": [
    {
     "name": "stdout",
     "output_type": "stream",
     "text": [
      "12344321\n"
     ]
    }
   ],
   "source": [
    "# 2. 문자형에 들어 있는 숫자끼리 더하면?\n",
    "\n",
    "num1 = '1234'\n",
    "num2 = '4321'\n",
    "print(num1 + num2)"
   ]
  },
  {
   "cell_type": "code",
   "execution_count": 22,
   "metadata": {},
   "outputs": [
    {
     "name": "stdout",
     "output_type": "stream",
     "text": [
      "P\n"
     ]
    }
   ],
   "source": [
    "# 3. K는 어떤 값이 될까요?\n",
    "K = 'P'\n",
    "P = 123\n",
    "print(K)"
   ]
  },
  {
   "cell_type": "markdown",
   "metadata": {},
   "source": [
    "<h1>'함께실습$3' <h1>단순 if문"
   ]
  },
  {
   "cell_type": "code",
   "execution_count": 25,
   "metadata": {},
   "outputs": [
    {
     "name": "stdout",
     "output_type": "stream",
     "text": [
      "성인입니다\n"
     ]
    }
   ],
   "source": [
    "# if 문 연습\n",
    "\n",
    "age = 25\n",
    "if age > 19:\n",
    "    print('성인입니다')\n",
    "    \n",
    "else:\n",
    "    print('청소년입니다')"
   ]
  },
  {
   "cell_type": "code",
   "execution_count": 26,
   "metadata": {},
   "outputs": [
    {
     "name": "stdout",
     "output_type": "stream",
     "text": [
      "중학생 할인혜택이 적용됩니다.\n"
     ]
    }
   ],
   "source": [
    "age = 15\n",
    "\n",
    "# or도 사용가능합니다.\n",
    "\n",
    "if age >= 14 and age <= 16:\n",
    "    print('중학생 할인혜택이 적용됩니다.')\n",
    "    \n",
    "else:\n",
    "    print('할인 대상자가 아닙니다')"
   ]
  },
  {
   "cell_type": "markdown",
   "metadata": {},
   "source": [
    "<h1>'함께실습$4' <h1>elif 사용하기"
   ]
  },
  {
   "cell_type": "code",
   "execution_count": 27,
   "metadata": {},
   "outputs": [
    {
     "name": "stdout",
     "output_type": "stream",
     "text": [
      "우\n"
     ]
    }
   ],
   "source": [
    "score = 85\n",
    "\n",
    "if score >= 90:\n",
    "    print('수')\n",
    "elif score >= 80:\n",
    "    print('우')\n",
    "elif score >= 70:\n",
    "    print('미')\n",
    "elif score >= 60:\n",
    "    print('양')\n",
    "else:\n",
    "    print('가')"
   ]
  },
  {
   "cell_type": "markdown",
   "metadata": {},
   "source": [
    "<h1>'미션$2' <h1>elif, else를 안쓰고도 아래와 똑같은 결고가 나오도록 만들어보세요."
   ]
  },
  {
   "cell_type": "code",
   "execution_count": 30,
   "metadata": {},
   "outputs": [
    {
     "name": "stdout",
     "output_type": "stream",
     "text": [
      "가\n"
     ]
    }
   ],
   "source": [
    "score = 40\n",
    "\n",
    "if score >= 90:\n",
    "    print('수')\n",
    "if score >=80 and score<90:\n",
    "    print('우')\n",
    "if score >=70 and score<80:\n",
    "    print('미')\n",
    "if score >=60 and score<70:\n",
    "    print('양')\n",
    "if score<60:\n",
    "    print('가')"
   ]
  },
  {
   "cell_type": "markdown",
   "metadata": {},
   "source": [
    "<h1>'자율$1' <h1> 20살 이상은 80점 이상시 합격, 20살 미만은 70점 이상시 합격을, 나머지는 불합격을 출력하세요."
   ]
  },
  {
   "cell_type": "code",
   "execution_count": 32,
   "metadata": {},
   "outputs": [
    {
     "name": "stdout",
     "output_type": "stream",
     "text": [
      "불합격입니다.\n"
     ]
    }
   ],
   "source": [
    "age = 25\n",
    "score = 75\n",
    "\n",
    "if age >= 20 and score >= 80:\n",
    "    print('합격입니다!')\n",
    "elif age < 20 and score >= 70:\n",
    "    print('합격입니다!')\n",
    "else:\n",
    "    print('불합격입니다.')"
   ]
  },
  {
   "cell_type": "markdown",
   "metadata": {},
   "source": [
    "<h1>'함께실습$5' <h1>list 기본"
   ]
  },
  {
   "cell_type": "code",
   "execution_count": 34,
   "metadata": {},
   "outputs": [
    {
     "name": "stdout",
     "output_type": "stream",
     "text": [
      "이청용\n",
      "650101\n",
      "1100\n"
     ]
    }
   ],
   "source": [
    "# 리스트 : 온갖 데이터를 순서대로 담아두는 표, []를 이용\n",
    "\n",
    "myname = '이청용'\n",
    "birth = 650101\n",
    "addr = '서울시 마포구 공덕동'\n",
    "\n",
    "person_info = [myname, birth, addr, '남자', 1100]\n",
    "\n",
    "print(person_info[0])\n",
    "print(person_info[1])\n",
    "print(person_info[4])"
   ]
  },
  {
   "cell_type": "markdown",
   "metadata": {},
   "source": [
    "<h1>'함께실습$6' <h1>dictionary 기본"
   ]
  },
  {
   "cell_type": "code",
   "execution_count": 36,
   "metadata": {},
   "outputs": [
    {
     "name": "stdout",
     "output_type": "stream",
     "text": [
      "이청용\n",
      "650101\n",
      "1100\n"
     ]
    }
   ],
   "source": [
    "# 딕셔너리 : 온갖 데이터를 필드 별로 담아두는 표, {}를 이용\n",
    "\n",
    "myname = '이청용'\n",
    "birth = 650101\n",
    "addr = '서울시 마포구 공덕동'\n",
    "\n",
    "user_info = {\n",
    "    'name' : myname,\n",
    "    'birth' : birth,\n",
    "    'address' : addr,\n",
    "    'gender': '남자',\n",
    "    'point' : 1100\n",
    "}\n",
    "\n",
    "print(user_info['name'])\n",
    "print(user_info['birth'])\n",
    "print(user_info['point'])\n",
    "\n",
    "\n",
    "# 리스트와 비슷하지만 key값이라고 하는 '' : 의 앞에 해당하는 값을 호출하면\n",
    "# value라고 하는 '': 의 뒤에 해당하는 값이 출력된다."
   ]
  },
  {
   "cell_type": "code",
   "execution_count": null,
   "metadata": {},
   "outputs": [],
   "source": [
    "person_ifno2 = ['박지성', 810225, '맨체스터', '남자', 13000]\n",
    "user_list = [person_info, person_info2, user_info]"
   ]
  }
 ],
 "metadata": {
  "kernelspec": {
   "display_name": "Python 3",
   "language": "python",
   "name": "python3"
  },
  "language_info": {
   "codemirror_mode": {
    "name": "ipython",
    "version": 3
   },
   "file_extension": ".py",
   "mimetype": "text/x-python",
   "name": "python",
   "nbconvert_exporter": "python",
   "pygments_lexer": "ipython3",
   "version": "3.7.3"
  }
 },
 "nbformat": 4,
 "nbformat_minor": 2
}
