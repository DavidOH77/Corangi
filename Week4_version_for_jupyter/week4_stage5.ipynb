{
 "cells": [
  {
   "cell_type": "markdown",
   "metadata": {},
   "source": [
    "<h1>'함께실습$3' <h1>주피터 노트북 코드 실행하기"
   ]
  },
  {
   "cell_type": "code",
   "execution_count": 4,
   "metadata": {},
   "outputs": [
    {
     "name": "stdout",
     "output_type": "stream",
     "text": [
      "Hello World!\n"
     ]
    }
   ],
   "source": [
    "print('Hello World!')"
   ]
  },
  {
   "cell_type": "markdown",
   "metadata": {},
   "source": [
    "# 큰 제목 : 안녕하세요?\n",
    "## 작은 제목 : 테스트입니다.\n",
    "\n",
    "*기울기*\n",
    "\n",
    "**진하게**\n",
    "\n",
    "`파이썬` `데이터` `사이언스`"
   ]
  },
  {
   "cell_type": "markdown",
   "metadata": {},
   "source": [
    "<h1>'함께실습$4' <h1> Markdown 제목 입력"
   ]
  },
  {
   "cell_type": "markdown",
   "metadata": {},
   "source": [
    "# 큰 제목\n",
    "## 제목\n",
    "### 제목\n",
    "#### 제목\n",
    "##### 제목\n",
    "###### 제목"
   ]
  },
  {
   "cell_type": "markdown",
   "metadata": {},
   "source": [
    "<h1>'함께실습$5' <h1> Markdown 리스트 만들기"
   ]
  },
  {
   "cell_type": "markdown",
   "metadata": {},
   "source": [
    "# 순서없는 리스트\n",
    "\n",
    "- 순서없는 리스트 제목1\n",
    "- 순서없는 리스트 제목2\n",
    "  - 밑에 두칸 띄고\n",
    "   - 또 두칸 띄고"
   ]
  },
  {
   "cell_type": "markdown",
   "metadata": {},
   "source": [
    "# 순서 있는 리스트\n",
    "\n",
    "1. 순서있는 리스트 제목1\n",
    "1. 순서있는 리스트 제목2\n",
    "1. 순서있는 리스트 제목3"
   ]
  },
  {
   "cell_type": "markdown",
   "metadata": {},
   "source": [
    "<h1>'함께실습$6' <h1> Markdown 이미지, 링크 넣기"
   ]
  },
  {
   "cell_type": "markdown",
   "metadata": {},
   "source": [
    "# 이미지, 링크\n",
    "\n",
    "---\n",
    "\n",
    "## 이미지\n",
    "![이것은 호랑이](https://cdn.crowdpic.net/list-thumb/thumb_l_C2CDC2FDA647B5D4594842CF5E891CC0.jpg)\n",
    "\n",
    "## 링크\n",
    "[네이버 링크](http://naver.com)"
   ]
  },
  {
   "cell_type": "markdown",
   "metadata": {},
   "source": [
    "<h1>'함께실습$7' <h1> Markdown 기타 문법"
   ]
  },
  {
   "cell_type": "markdown",
   "metadata": {},
   "source": [
    "# 기타\n",
    "\n",
    "---\n",
    "\n",
    "## 글자 진하게\n",
    "**글자 진하게**\n",
    "\n",
    "## 코드 넣기\n",
    "```python\n",
    "a = input('내용을 입력해주세요 : ')\n",
    "print('파이썬 코드', a)\n",
    "```\n",
    "\n",
    "## 글 중간에 코드 넣기\n",
    "글 중간에 `코드` 넣기\n",
    "\n",
    "##인용구\n",
    "> 인용(끝에 스페이스바 2번 쳐야 줄바뀜!)  \n",
    "> 내용\n"
   ]
  },
  {
   "cell_type": "markdown",
   "metadata": {},
   "source": [
    "<h1>'함께실습$8' <h1> Markdown 표 만들기"
   ]
  },
  {
   "cell_type": "markdown",
   "metadata": {},
   "source": [
    "# 표\n",
    "이름|전화번호|이메일\n",
    "-|-|-\n",
    "A|011|abcdef\n",
    "B|010|ghijkl"
   ]
  },
  {
   "cell_type": "markdown",
   "metadata": {},
   "source": [
    "<h1>'함께실습$9' <h1> 라이브러리 import하기"
   ]
  },
  {
   "cell_type": "code",
   "execution_count": 7,
   "metadata": {},
   "outputs": [],
   "source": [
    "import pandas as pd\n",
    "import numpy as np"
   ]
  },
  {
   "cell_type": "markdown",
   "metadata": {},
   "source": [
    "<h1>'미션$1' <h1> 똑같이 만들어보세요!"
   ]
  },
  {
   "cell_type": "markdown",
   "metadata": {},
   "source": [
    "# 마크다운 연습기\n",
    "---\n",
    "마크다운을 사용하면서 주피터 노트북과 친해져 보겠습니다.  \n",
    "이 링크를 누르면 [호랑이](https://cdn.crowdpic.net/list-thumb/thumb_l_C2CDC2FDA647B5D4594842CF5E891CC0.jpg)로 이동하세요.\n",
    "\n",
    "여기서부터는 다른 문단입니다.\n",
    "\n",
    "---\n",
    "\n",
    "# 지금까지 배운내용\n",
    "\n",
    "마크다운으로 지금까지 배운내용\n",
    "\n",
    "1. 큰 제목 넣기\n",
    "1. 리스트 넣기\n",
    "1. 표 넣기\n",
    "1. 기타\n",
    "\n",
    "---\n",
    "\n",
    "# 정리\n",
    "문법|사용법\n",
    "-|-\n",
    "큰 제목|#을 사용\n",
    "리스트|- 혹은 1. 사용\n",
    "\n",
    "# 마무리\n",
    "\n",
    "파이썬 코드로 Hello World!를 만들면서 끝내요!\n",
    "```python\n",
    "print('Hello World!')\n",
    "```\n"
   ]
  },
  {
   "cell_type": "code",
   "execution_count": 9,
   "metadata": {},
   "outputs": [
    {
     "name": "stdout",
     "output_type": "stream",
     "text": [
      "Hello World!\n"
     ]
    }
   ],
   "source": [
    "print('Hello World!')"
   ]
  },
  {
   "cell_type": "markdown",
   "metadata": {},
   "source": [
    "# 제작자 \n",
    "\n",
    "**작성자** 오혜성\n",
    "\n",
    "![내 ]"
   ]
  },
  {
   "cell_type": "code",
   "execution_count": null,
   "metadata": {},
   "outputs": [],
   "source": []
  }
 ],
 "metadata": {
  "kernelspec": {
   "display_name": "Python 3",
   "language": "python",
   "name": "python3"
  },
  "language_info": {
   "codemirror_mode": {
    "name": "ipython",
    "version": 3
   },
   "file_extension": ".py",
   "mimetype": "text/x-python",
   "name": "python",
   "nbconvert_exporter": "python",
   "pygments_lexer": "ipython3",
   "version": "3.7.3"
  }
 },
 "nbformat": 4,
 "nbformat_minor": 2
}
