{
 "cells": [
  {
   "cell_type": "markdown",
   "metadata": {},
   "source": [
    "<h1>'자율$1' <h1>여러 특성 데이터 기반의 Tree 만들기"
   ]
  },
  {
   "cell_type": "code",
   "execution_count": 1,
   "metadata": {},
   "outputs": [],
   "source": [
    "data = {\n",
    "    'weight' : [26, 2, 9, 6],\n",
    "    'movable' : [True, True, True, False],\n",
    "    'category' : ['animal' , ' plant', ' animal', 'plant']\n",
    "}"
   ]
  },
  {
   "cell_type": "code",
   "execution_count": 2,
   "metadata": {},
   "outputs": [
    {
     "name": "stdout",
     "output_type": "stream",
     "text": [
      "1번 생물 : 동물/식물을 분류합니다.\n",
      "동물입니다.\n"
     ]
    }
   ],
   "source": [
    "target_index = 0\n",
    "target_names = ['1번 생물', '2번 생물', '3번 생물', '4번 생물']\n",
    "\n",
    "print(target_names[target_index], ': 동물/식물을 분류합니다.')\n",
    "\n",
    "if data['movable'][target_index] : # 움직일 수 있다.\n",
    "    if data['weight'][target_index] <= 6:\n",
    "        print('식물입니다.')\n",
    "    else:\n",
    "        print('동물입니다.')\n",
    "else :\n",
    "    print('식물입니다.')"
   ]
  },
  {
   "cell_type": "markdown",
   "metadata": {},
   "source": [
    "<h1>'자율$2' <h1>예시 트리와 다른 방식으로도 만들어보기"
   ]
  },
  {
   "cell_type": "code",
   "execution_count": 3,
   "metadata": {},
   "outputs": [
    {
     "name": "stdout",
     "output_type": "stream",
     "text": [
      "1번 생물 : 동물/식물을 분류합니다.\n",
      "동물입니다.\n"
     ]
    }
   ],
   "source": [
    "target_index = 0\n",
    "target_names = ['1번 생물', '2번 생물', '3번 생물', '4번 생물']\n",
    "\n",
    "print(target_names[target_index], ': 동물/식물을 분류합니다.')\n",
    "\n",
    "if data['weight'][target_index] >= 26 : \n",
    "    print('동물입니다.')\n",
    "else :\n",
    "    if data['movable'][target_index] :\n",
    "        print('동물입니다.')\n",
    "    else:\n",
    "        print('식물입니다.')"
   ]
  },
  {
   "cell_type": "markdown",
   "metadata": {},
   "source": [
    "<h1>'자율$3' <h1>Cabin의 객실 알파벳만 남기기(첫글자)"
   ]
  },
  {
   "cell_type": "code",
   "execution_count": 5,
   "metadata": {},
   "outputs": [
    {
     "ename": "NameError",
     "evalue": "name 'df' is not defined",
     "output_type": "error",
     "traceback": [
      "\u001b[1;31m---------------------------------------------------------------------------\u001b[0m",
      "\u001b[1;31mNameError\u001b[0m                                 Traceback (most recent call last)",
      "\u001b[1;32m<ipython-input-5-a67953c330a0>\u001b[0m in \u001b[0;36m<module>\u001b[1;34m\u001b[0m\n\u001b[0;32m      1\u001b[0m \u001b[1;31m# str의 0번째 알파벳만 남기기\u001b[0m\u001b[1;33m\u001b[0m\u001b[1;33m\u001b[0m\u001b[1;33m\u001b[0m\u001b[0m\n\u001b[0;32m      2\u001b[0m \u001b[1;33m\u001b[0m\u001b[0m\n\u001b[1;32m----> 3\u001b[1;33m \u001b[0mdf\u001b[0m\u001b[1;33m[\u001b[0m\u001b[1;34m'Cabin'\u001b[0m\u001b[1;33m]\u001b[0m \u001b[1;33m=\u001b[0m \u001b[0mdf\u001b[0m\u001b[1;33m[\u001b[0m\u001b[1;34m'Cabin'\u001b[0m\u001b[1;33m]\u001b[0m\u001b[1;33m.\u001b[0m\u001b[0mstr\u001b[0m\u001b[1;33m[\u001b[0m\u001b[1;36m0\u001b[0m\u001b[1;33m]\u001b[0m\u001b[1;33m\u001b[0m\u001b[1;33m\u001b[0m\u001b[0m\n\u001b[0m\u001b[0;32m      4\u001b[0m \u001b[0mdf\u001b[0m\u001b[1;33m.\u001b[0m\u001b[0mhead\u001b[0m\u001b[1;33m(\u001b[0m\u001b[1;33m)\u001b[0m\u001b[1;33m\u001b[0m\u001b[1;33m\u001b[0m\u001b[0m\n",
      "\u001b[1;31mNameError\u001b[0m: name 'df' is not defined"
     ]
    }
   ],
   "source": [
    "# str의 0번째 알파벳만 남기기\n",
    "\n",
    "df['Cabin'] = df['Cabin'].str[0]\n",
    "df.head()"
   ]
  },
  {
   "cell_type": "code",
   "execution_count": null,
   "metadata": {},
   "outputs": [],
   "source": []
  }
 ],
 "metadata": {
  "kernelspec": {
   "display_name": "Python 3",
   "language": "python",
   "name": "python3"
  },
  "language_info": {
   "codemirror_mode": {
    "name": "ipython",
    "version": 3
   },
   "file_extension": ".py",
   "mimetype": "text/x-python",
   "name": "python",
   "nbconvert_exporter": "python",
   "pygments_lexer": "ipython3",
   "version": "3.7.3"
  }
 },
 "nbformat": 4,
 "nbformat_minor": 2
}
