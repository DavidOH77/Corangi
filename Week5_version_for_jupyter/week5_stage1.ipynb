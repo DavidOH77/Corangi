{
 "cells": [
  {
   "cell_type": "markdown",
   "metadata": {},
   "source": [
    "<h1>'함께실습$1' <h1>카테고리 데이터 기반의 Tree 만들기"
   ]
  },
  {
   "cell_type": "code",
   "execution_count": 1,
   "metadata": {},
   "outputs": [],
   "source": [
    "# 순서대로 [고양이, 펭귄, 타조, 참새]의 데이터\n",
    "\n",
    "data = {\n",
    "    'name': ['고양이', '펭귄', '닭', '타조', '참새'],\n",
    "    'wing' : [False, True, True, True, True],\n",
    "    'weight' : ['light', 'heavy', 'light', 'heavy', 'light'],\n",
    "    'density' : ['low', 'high', 'high', 'high', 'low'],\n",
    "    'fly' : [False, False, False, False, True]\n",
    "}"
   ]
  },
  {
   "cell_type": "code",
   "execution_count": 2,
   "metadata": {},
   "outputs": [
    {
     "name": "stdout",
     "output_type": "stream",
     "text": [
      "고양이는 날개가 있을까? False\n",
      "닭은 날개가 있을까? True\n"
     ]
    }
   ],
   "source": [
    "print('고양이는 날개가 있을까?', data['wing'][0])\n",
    "print('닭은 날개가 있을까?', data['wing'][2])"
   ]
  },
  {
   "cell_type": "code",
   "execution_count": 3,
   "metadata": {},
   "outputs": [
    {
     "name": "stdout",
     "output_type": "stream",
     "text": [
      "True heavy high False\n"
     ]
    }
   ],
   "source": [
    "# 펭귄의 날개, 무게, 골밀도, 비행가능 여부 정보를 모두 보여주기\n",
    "\n",
    "print(data['wing'][1],\n",
    "      data['weight'][1],\n",
    "      data['density'][1],\n",
    "      data['fly'][1]\n",
    "    )"
   ]
  },
  {
   "cell_type": "code",
   "execution_count": 4,
   "metadata": {},
   "outputs": [
    {
     "name": "stdout",
     "output_type": "stream",
     "text": [
      "True light low True\n"
     ]
    }
   ],
   "source": [
    "# 참새의 모든 정보 보여주기\n",
    "\n",
    "bird_no = 4\n",
    "print(data['wing'][bird_no],\n",
    "      data['weight'][bird_no],\n",
    "      data['density'][bird_no],\n",
    "      data['fly'][bird_no]\n",
    "    )"
   ]
  },
  {
   "cell_type": "markdown",
   "metadata": {},
   "source": [
    "<h1>'함께실습$2' <h1>카테고리 데이터 기반의 Tree 만들기"
   ]
  },
  {
   "cell_type": "code",
   "execution_count": 7,
   "metadata": {},
   "outputs": [
    {
     "name": "stdout",
     "output_type": "stream",
     "text": [
      "고양이 : 날 수 있는지 확인합니다.\n",
      "고양이는 날 수 없다.\n"
     ]
    }
   ],
   "source": [
    "# 코드작성이 끝나면 target_index를 0부터 4까지 변경하면서 실행해보세요\n",
    "\n",
    "target_index = 0\n",
    "\n",
    "print(data['name'][target_index], ': 날 수 있는지 확인합니다.')\n",
    "\n",
    "# 날개 유무\n",
    "\n",
    "if data['wing'][target_index] : # 날개 있음\n",
    "    # 몸무게\n",
    "    if data['weight'][target_index] == 'heavy' : # 몸무게 heavy\n",
    "        print('날 수 없다.')\n",
    "        \n",
    "    else : # 몸무게 light\n",
    "        # 골밀도\n",
    "        if data['density'][target_index] == 'high' : # 골밀도 high\n",
    "            print('날 수 없다!')\n",
    "        else : # 골밀도 low\n",
    "            print('날 수 있다!!!')\n",
    "else : # 날개 없음\n",
    "    print(data['name'][target_index] + '는 날 수 없다.')"
   ]
  },
  {
   "cell_type": "markdown",
   "metadata": {},
   "source": [
    "<h1>'자율$1' <h1>연속적 특성 데이터 기반의 Tree 만들기"
   ]
  },
  {
   "cell_type": "code",
   "execution_count": 8,
   "metadata": {},
   "outputs": [],
   "source": [
    "data = {\n",
    "    'age': [20, 22, 11, 10],\n",
    "    'fsize' : [270, 235, 280, 220],\n",
    "    'gender' : ['male', 'female', 'male', 'female']\n",
    "}"
   ]
  },
  {
   "cell_type": "code",
   "execution_count": null,
   "metadata": {},
   "outputs": [],
   "source": [
    "# 코드작성이 끝나면 target_index를 0부터 3까지 변경하면서 실행해보세요\n",
    "\n",
    "target_index = 0\n",
    "target_names = ['1번 회원', '2번 회원', '3번 회원', '4번 회원']\n",
    "\n",
    "print(target_names[target_index], ': 성별을 확인합니다.')\n",
    "\n",
    "# 나이가 20살 이하인지 확인\n",
    "\n",
    "if data['age'][target_index] <= 20: # 20살 이하\n",
    "    \n",
    "    # 발 사이즈가 250 이하인지 확인\n",
    "    if data['fsize'][target_index] <= 250 : # 발사이즈 250 이하\n",
    "        print('female')\n",
    "    \n",
    "    else : # 발 사이즈 250 초과\n",
    "        print('male')\n",
    "        \n",
    "else : # 20살 초과\n",
    "    # 발 사이즈가 260 이상인지 확인\n",
    "    \n",
    "    if data['fsize'][target_index] >= 260 : # 발 사이즈 260 이상\n",
    "        print('날 수 없다!')\n",
    "    else : # 발 사이즈 260 \n",
    "        print('날 수 있다!!!')\n",
    "    print(data['name'][target_index] + '는 날 수 없다.')"
   ]
  }
 ],
 "metadata": {
  "kernelspec": {
   "display_name": "Python 3",
   "language": "python",
   "name": "python3"
  },
  "language_info": {
   "codemirror_mode": {
    "name": "ipython",
    "version": 3
   },
   "file_extension": ".py",
   "mimetype": "text/x-python",
   "name": "python",
   "nbconvert_exporter": "python",
   "pygments_lexer": "ipython3",
   "version": "3.7.3"
  }
 },
 "nbformat": 4,
 "nbformat_minor": 2
}
